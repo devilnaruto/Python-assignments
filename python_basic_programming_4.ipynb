{
 "cells": [
  {
   "cell_type": "markdown",
   "metadata": {},
   "source": [
    "1.\tWrite a Python Program to Find the Factorial of a Number?\n",
    "\n"
   ]
  },
  {
   "cell_type": "code",
   "execution_count": 1,
   "metadata": {},
   "outputs": [
    {
     "name": "stdout",
     "output_type": "stream",
     "text": [
      "Enter the value 5\n",
      "The factorial of entered number is 120\n"
     ]
    }
   ],
   "source": [
    "def fact(n):\n",
    "    f = 1\n",
    "    for i in range(1,n+1):\n",
    "        f = f*i\n",
    "    return f\n",
    "\n",
    "print(\"The factorial of entered number is\",fact(int(input(\"Enter the value \"))))"
   ]
  },
  {
   "cell_type": "markdown",
   "metadata": {},
   "source": [
    "2.\tWrite a Python Program to Display the multiplication Table?\n"
   ]
  },
  {
   "cell_type": "code",
   "execution_count": 2,
   "metadata": {},
   "outputs": [
    {
     "name": "stdout",
     "output_type": "stream",
     "text": [
      "Enter the value 12\n",
      "12 X 1 = 12\n",
      "12 X 2 = 24\n",
      "12 X 3 = 36\n",
      "12 X 4 = 48\n",
      "12 X 5 = 60\n",
      "12 X 6 = 72\n",
      "12 X 7 = 84\n",
      "12 X 8 = 96\n",
      "12 X 9 = 108\n",
      "12 X 10 = 120\n",
      "The multiplication table is shown above\n"
     ]
    }
   ],
   "source": [
    "def multi_table(n):\n",
    "    for i in range(1,11):\n",
    "        print(n,\"X\",i,\"=\",(n*i))\n",
    "        \n",
    "multi_table(int(input(\"Enter the value \")))\n",
    "print(\"The multiplication table is shown above\")"
   ]
  },
  {
   "cell_type": "markdown",
   "metadata": {},
   "source": [
    "3.\tWrite a Python Program to Print the Fibonacci sequence?\n"
   ]
  },
  {
   "cell_type": "code",
   "execution_count": 4,
   "metadata": {},
   "outputs": [
    {
     "name": "stdout",
     "output_type": "stream",
     "text": [
      "Enter the number of terms in the fibinacci series5\n"
     ]
    },
    {
     "data": {
      "text/plain": [
       "[0, 1, 1, 2, 3]"
      ]
     },
     "execution_count": 4,
     "metadata": {},
     "output_type": "execute_result"
    }
   ],
   "source": [
    "def fibo(n):\n",
    "    a = 0\n",
    "    b = 1\n",
    "    series_fibo =[a,b]\n",
    "    for i in range(2,n):\n",
    "        c = a+b\n",
    "        series_fibo.append(c)\n",
    "        a = b\n",
    "        b = c\n",
    "    return series_fibo\n",
    "\n",
    "fibo(int(input(\"Enter the number of terms in the fibinacci series\")))     "
   ]
  },
  {
   "cell_type": "markdown",
   "metadata": {},
   "source": [
    "4.\tWrite a Python Program to Check Armstrong Number?\n"
   ]
  },
  {
   "cell_type": "code",
   "execution_count": 6,
   "metadata": {},
   "outputs": [
    {
     "name": "stdout",
     "output_type": "stream",
     "text": [
      "Enter the number 153\n",
      "The entered number is armstrong number\n"
     ]
    }
   ],
   "source": [
    "def check_armstrong(n):\n",
    "    temp = n\n",
    "    sum = 0\n",
    "    \n",
    "    while temp>0:\n",
    "        d=temp%10\n",
    "        sum+=pow(d,3)\n",
    "        temp=temp//10\n",
    "    \n",
    "    if n == sum:\n",
    "        print(\"The entered number is armstrong number\")\n",
    "    else:\n",
    "        print(\"The entered number is not armstrong number\")\n",
    "        \n",
    "\n",
    "check_armstrong(int(input(\"Enter the number \")))\n",
    "\n",
    "    \n",
    "    \n",
    "    "
   ]
  },
  {
   "cell_type": "markdown",
   "metadata": {},
   "source": [
    "5.\tWrite a Python Program to Find Armstrong Number in an Interval?\n"
   ]
  },
  {
   "cell_type": "code",
   "execution_count": 8,
   "metadata": {},
   "outputs": [
    {
     "name": "stdout",
     "output_type": "stream",
     "text": [
      "Enter the lower limit 100\n",
      "Enter the upper limit 500\n",
      "153\n",
      "370\n",
      "371\n",
      "407\n"
     ]
    }
   ],
   "source": [
    "def check_armstrong(n):\n",
    "    temp = n\n",
    "    sum = 0\n",
    "    \n",
    "    while temp>0:\n",
    "        d=temp%10\n",
    "        sum+=pow(d,3)\n",
    "        temp=temp//10\n",
    "    \n",
    "    if n == sum:\n",
    "        return 1\n",
    "    else:\n",
    "        return 0\n",
    "\n",
    "Lower_limit = int(input(\"Enter the lower limit \"))    \n",
    "Upper_limit = int(input(\"Enter the upper limit \"))\n",
    "\n",
    "for i in range(Lower_limit,Upper_limit):\n",
    "    if check_armstrong(i)==1:\n",
    "        print(i)"
   ]
  },
  {
   "cell_type": "markdown",
   "metadata": {},
   "source": [
    "6.\tWrite a Python Program to Find the Sum of Natural Numbers?"
   ]
  },
  {
   "cell_type": "code",
   "execution_count": 1,
   "metadata": {},
   "outputs": [
    {
     "name": "stdout",
     "output_type": "stream",
     "text": [
      "Enter the number 7\n",
      "The sum of natural numbers is 28\n"
     ]
    }
   ],
   "source": [
    "def sum_natural(n):\n",
    "    s = 0\n",
    "    if n<0:\n",
    "        print(\"Invalid value, please enter natural number\")\n",
    "    else:\n",
    "        while n>0:\n",
    "            s+=n\n",
    "            n=n-1\n",
    "    return s\n",
    "\n",
    "print(\"The sum of natural numbers is\",sum_natural(int(input(\"Enter the number \"))))\n",
    "            "
   ]
  },
  {
   "cell_type": "code",
   "execution_count": 2,
   "metadata": {},
   "outputs": [
    {
     "ename": "NameError",
     "evalue": "name 'cwd' is not defined",
     "output_type": "error",
     "traceback": [
      "\u001b[1;31m---------------------------------------------------------------------------\u001b[0m",
      "\u001b[1;31mNameError\u001b[0m                                 Traceback (most recent call last)",
      "\u001b[1;32m<ipython-input-2-e863a2ac204e>\u001b[0m in \u001b[0;36m<module>\u001b[1;34m\u001b[0m\n\u001b[1;32m----> 1\u001b[1;33m \u001b[0mcwd\u001b[0m\u001b[1;33m\u001b[0m\u001b[1;33m\u001b[0m\u001b[0m\n\u001b[0m",
      "\u001b[1;31mNameError\u001b[0m: name 'cwd' is not defined"
     ]
    }
   ],
   "source": [
    "c"
   ]
  },
  {
   "cell_type": "code",
   "execution_count": null,
   "metadata": {},
   "outputs": [],
   "source": []
  }
 ],
 "metadata": {
  "kernelspec": {
   "display_name": "Python 3",
   "language": "python",
   "name": "python3"
  },
  "language_info": {
   "codemirror_mode": {
    "name": "ipython",
    "version": 3
   },
   "file_extension": ".py",
   "mimetype": "text/x-python",
   "name": "python",
   "nbconvert_exporter": "python",
   "pygments_lexer": "ipython3",
   "version": "3.8.5"
  }
 },
 "nbformat": 4,
 "nbformat_minor": 4
}
