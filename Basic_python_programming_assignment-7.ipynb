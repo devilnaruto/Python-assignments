{
 "cells": [
  {
   "cell_type": "markdown",
   "metadata": {},
   "source": [
    "1.\tWrite a Python Program to find sum of array?"
   ]
  },
  {
   "cell_type": "code",
   "execution_count": 6,
   "metadata": {},
   "outputs": [],
   "source": [
    "class sum_of_array:\n",
    "    def __init__(self, arr, number_of_elements):\n",
    "        self.arr = arr\n",
    "        self.number_of_elements = number_of_elements\n",
    "    def sum_array(self):\n",
    "        sum1 = 0\n",
    "        for i in range(self.number_of_elements):\n",
    "            sum1 = sum1 + self.arr[i]\n",
    "        \n",
    "        return sum1        "
   ]
  },
  {
   "cell_type": "code",
   "execution_count": 7,
   "metadata": {},
   "outputs": [
    {
     "name": "stdout",
     "output_type": "stream",
     "text": [
      "Enter number of elements : 4\n",
      "Enter the element 2\n",
      "Enter the element 3\n",
      "Enter the element 4\n",
      "Enter the element 5\n"
     ]
    },
    {
     "data": {
      "text/plain": [
       "14"
      ]
     },
     "execution_count": 7,
     "metadata": {},
     "output_type": "execute_result"
    }
   ],
   "source": [
    "n = int(input(\"Enter number of elements : \"))\n",
    "ar =[]\n",
    "for j in range(n):\n",
    "    element = int(input(\"Enter the element \"))\n",
    "    ar.append(element)\n",
    "    \n",
    "a = sum_of_array(ar,n)\n",
    "a.sum_array()\n",
    "    "
   ]
  },
  {
   "cell_type": "markdown",
   "metadata": {},
   "source": [
    "2.\tWrite a Python Program to find largest element in an array?"
   ]
  },
  {
   "cell_type": "code",
   "execution_count": 11,
   "metadata": {},
   "outputs": [],
   "source": [
    "class largest_of_array:\n",
    "    def __init__(self, arr, number_of_elements):\n",
    "        self.arr = arr\n",
    "        self.number_of_elements = number_of_elements\n",
    "    def largest_array(self):\n",
    "        largest = self.arr[0]\n",
    "        for i in range(self.number_of_elements):\n",
    "            if self.arr[i]>largest:\n",
    "                largest = self.arr[i]\n",
    "        \n",
    "        return largest        "
   ]
  },
  {
   "cell_type": "code",
   "execution_count": 13,
   "metadata": {},
   "outputs": [
    {
     "name": "stdout",
     "output_type": "stream",
     "text": [
      "Enter number of elements : 4\n",
      "Enter the element 34\n",
      "Enter the element 67\n",
      "Enter the element 23\n",
      "Enter the element 84\n"
     ]
    },
    {
     "data": {
      "text/plain": [
       "84"
      ]
     },
     "execution_count": 13,
     "metadata": {},
     "output_type": "execute_result"
    }
   ],
   "source": [
    "n = int(input(\"Enter number of elements : \"))\n",
    "ar =[]\n",
    "for j in range(n):\n",
    "    element = int(input(\"Enter the element \"))\n",
    "    ar.append(element)\n",
    "    \n",
    "a = largest_of_array(ar,n)\n",
    "a.largest_array()"
   ]
  },
  {
   "cell_type": "markdown",
   "metadata": {},
   "source": [
    "3.\tWrite a Python Program for array rotation?"
   ]
  },
  {
   "cell_type": "code",
   "execution_count": 45,
   "metadata": {},
   "outputs": [],
   "source": [
    "class rotate:\n",
    "    def __init__(self, arr, number_of_elements, times_rotate):\n",
    "        self.arr = arr\n",
    "        self.number_of_elements = number_of_elements \n",
    "        self.times_rotate = times_rotate\n",
    "        \n",
    "    def rotate_function(self):\n",
    "        left_rotated_array = []\n",
    "        for i in range(self.times_rotate,self.number_of_elements):\n",
    "            left_rotated_array.append(self.arr[i])\n",
    "            \n",
    "        for j in range(self.times_rotate):\n",
    "            left_rotated_array.append(self.arr[j])\n",
    "        \n",
    "        return left_rotated_array\n",
    "            \n",
    "        "
   ]
  },
  {
   "cell_type": "code",
   "execution_count": 46,
   "metadata": {},
   "outputs": [
    {
     "name": "stdout",
     "output_type": "stream",
     "text": [
      "Enter number of elements : 5\n",
      "Enter number of times you want to left rotate : 2\n",
      "Enter the element 1\n",
      "Enter the element 2\n",
      "Enter the element 3\n",
      "Enter the element 4\n",
      "Enter the element 5\n"
     ]
    },
    {
     "data": {
      "text/plain": [
       "[3, 4, 5, 1, 2]"
      ]
     },
     "execution_count": 46,
     "metadata": {},
     "output_type": "execute_result"
    }
   ],
   "source": [
    "n = int(input(\"Enter number of elements : \"))\n",
    "times = int(input(\"Enter number of times you want to left rotate : \"))\n",
    "ar =[]\n",
    "for j in range(n):\n",
    "    element = int(input(\"Enter the element \"))\n",
    "    ar.append(element)\n",
    "    \n",
    "a = rotate(ar,n,times)\n",
    "a.rotate_function()"
   ]
  },
  {
   "cell_type": "markdown",
   "metadata": {},
   "source": [
    "4.\tWrite a Python Program to Split the array and add the first part to the end?"
   ]
  },
  {
   "cell_type": "code",
   "execution_count": 7,
   "metadata": {},
   "outputs": [],
   "source": [
    "class split_add:\n",
    "    def __init__(self, arr, number_of_elements, step_size):\n",
    "        self.arr = arr\n",
    "        self.number_of_elements = number_of_elements \n",
    "        self.step_size = step_size\n",
    "        \n",
    "    def split_add_to_last(self):\n",
    "        last_part = self.arr[self.step_size:self.number_of_elements]\n",
    "        first_part = self.arr[0:self.step_size]\n",
    "        \n",
    "        return last_part+first_part"
   ]
  },
  {
   "cell_type": "code",
   "execution_count": 8,
   "metadata": {},
   "outputs": [
    {
     "name": "stdout",
     "output_type": "stream",
     "text": [
      "Enter number of elements : 5\n",
      "Enter setp size: 3\n",
      "Enter the element 23\n",
      "Enter the element 24\n",
      "Enter the element 25\n",
      "Enter the element 26\n",
      "Enter the element 45\n"
     ]
    },
    {
     "data": {
      "text/plain": [
       "[26, 45, 23, 24, 25]"
      ]
     },
     "execution_count": 8,
     "metadata": {},
     "output_type": "execute_result"
    }
   ],
   "source": [
    "n = int(input(\"Enter number of elements : \"))\n",
    "times = int(input(\"Enter setp size: \"))\n",
    "ar =[]\n",
    "for j in range(n):\n",
    "    element = int(input(\"Enter the element \"))\n",
    "    ar.append(element)\n",
    "    \n",
    "a = split_add(ar,n,times)\n",
    "a.split_add_to_last()"
   ]
  },
  {
   "cell_type": "markdown",
   "metadata": {},
   "source": [
    "5.\tWrite a Python Program to check if given array is Monotonic?"
   ]
  },
  {
   "cell_type": "code",
   "execution_count": 45,
   "metadata": {},
   "outputs": [],
   "source": [
    "class check:\n",
    "    def __init__(self, arr, number_of_elements):\n",
    "        self.arr = arr\n",
    "        self.number_of_elements = number_of_elements\n",
    "    def check_increasing_monotonic(self):\n",
    "        s=[self.arr[i]<=self.arr[i+1] for i in range(self.number_of_elements-1)]\n",
    "        return all(s)\n",
    "    def check_decreasing_monotonic(self):\n",
    "        s=[self.arr[i]>=self.arr[i+1] for i in range(self.number_of_elements-1)]\n",
    "        return all(s)        "
   ]
  },
  {
   "cell_type": "code",
   "execution_count": 49,
   "metadata": {},
   "outputs": [
    {
     "name": "stdout",
     "output_type": "stream",
     "text": [
      "Enter number of elements : 4\n",
      "Enter the element 56\n",
      "Enter the element 3\n",
      "Enter the element 67\n",
      "Enter the element 76\n",
      "The array is not monotonic\n"
     ]
    }
   ],
   "source": [
    "n = int(input(\"Enter number of elements : \"))\n",
    "ar =[]\n",
    "for j in range(n):\n",
    "    element = int(input(\"Enter the element \"))\n",
    "    ar.append(element)\n",
    "    \n",
    "a = check(ar,n)\n",
    "if (a.check_increasing_monotonic() or a.check_decreasing_monotonic() == True):\n",
    "    print(\"The array is monotonic\")\n",
    "else:\n",
    "    print(\"The array is not monotonic\")\n",
    "\n",
    "    "
   ]
  },
  {
   "cell_type": "markdown",
   "metadata": {},
   "source": []
  },
  {
   "cell_type": "code",
   "execution_count": null,
   "metadata": {},
   "outputs": [],
   "source": []
  },
  {
   "cell_type": "code",
   "execution_count": null,
   "metadata": {},
   "outputs": [],
   "source": []
  }
 ],
 "metadata": {
  "kernelspec": {
   "display_name": "Python 3",
   "language": "python",
   "name": "python3"
  },
  "language_info": {
   "codemirror_mode": {
    "name": "ipython",
    "version": 3
   },
   "file_extension": ".py",
   "mimetype": "text/x-python",
   "name": "python",
   "nbconvert_exporter": "python",
   "pygments_lexer": "ipython3",
   "version": "3.8.5"
  }
 },
 "nbformat": 4,
 "nbformat_minor": 4
}
