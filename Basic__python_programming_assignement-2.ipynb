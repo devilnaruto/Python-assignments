{
 "cells": [
  {
   "cell_type": "markdown",
   "metadata": {},
   "source": [
    "1.\tWrite a Python program to convert kilometers to miles?"
   ]
  },
  {
   "cell_type": "code",
   "execution_count": 3,
   "metadata": {},
   "outputs": [
    {
     "name": "stdout",
     "output_type": "stream",
     "text": [
      "Enter the value in kilometers 1\n",
      "Value in miles is 0.62137\n"
     ]
    }
   ],
   "source": [
    "def convert_Kilo_miles(km):\n",
    "    \n",
    "    mi = km* 0.62137\n",
    "    return mi\n",
    "\n",
    "print(\"Value in miles is\",convert_Kilo_miles(int(input(\"Enter the value in kilometers \"))))"
   ]
  },
  {
   "cell_type": "markdown",
   "metadata": {},
   "source": [
    "2.\tWrite a Python program to convert Celsius to Fahrenheit?"
   ]
  },
  {
   "cell_type": "code",
   "execution_count": 9,
   "metadata": {},
   "outputs": [
    {
     "name": "stdout",
     "output_type": "stream",
     "text": [
      "Enter the value in Celsius 100\n",
      "Value in Fahrenheit is 212.0 °F\n"
     ]
    }
   ],
   "source": [
    "def convert_celsius_fahrenheit(C):\n",
    "    F = (C*9/5)+32\n",
    "    return F\n",
    "\n",
    "print(\"Value in Fahrenheit is\",convert_celsius_fahrenheit(int(input(\"Enter the value in Celsius \"))),\"°F\")"
   ]
  },
  {
   "cell_type": "markdown",
   "metadata": {},
   "source": [
    "3.\tWrite a Python program to display calendar?"
   ]
  },
  {
   "cell_type": "code",
   "execution_count": 5,
   "metadata": {},
   "outputs": [
    {
     "name": "stdout",
     "output_type": "stream",
     "text": [
      "Enter the year whose calendar needs to be displayed 2017\n",
      "The calendar for the input year is below                                   2017\n",
      "\n",
      "      January                   February                   March\n",
      "Mo Tu We Th Fr Sa Su      Mo Tu We Th Fr Sa Su      Mo Tu We Th Fr Sa Su\n",
      "                   1             1  2  3  4  5             1  2  3  4  5\n",
      " 2  3  4  5  6  7  8       6  7  8  9 10 11 12       6  7  8  9 10 11 12\n",
      " 9 10 11 12 13 14 15      13 14 15 16 17 18 19      13 14 15 16 17 18 19\n",
      "16 17 18 19 20 21 22      20 21 22 23 24 25 26      20 21 22 23 24 25 26\n",
      "23 24 25 26 27 28 29      27 28                     27 28 29 30 31\n",
      "30 31\n",
      "\n",
      "       April                      May                       June\n",
      "Mo Tu We Th Fr Sa Su      Mo Tu We Th Fr Sa Su      Mo Tu We Th Fr Sa Su\n",
      "                1  2       1  2  3  4  5  6  7                1  2  3  4\n",
      " 3  4  5  6  7  8  9       8  9 10 11 12 13 14       5  6  7  8  9 10 11\n",
      "10 11 12 13 14 15 16      15 16 17 18 19 20 21      12 13 14 15 16 17 18\n",
      "17 18 19 20 21 22 23      22 23 24 25 26 27 28      19 20 21 22 23 24 25\n",
      "24 25 26 27 28 29 30      29 30 31                  26 27 28 29 30\n",
      "\n",
      "        July                     August                  September\n",
      "Mo Tu We Th Fr Sa Su      Mo Tu We Th Fr Sa Su      Mo Tu We Th Fr Sa Su\n",
      "                1  2          1  2  3  4  5  6                   1  2  3\n",
      " 3  4  5  6  7  8  9       7  8  9 10 11 12 13       4  5  6  7  8  9 10\n",
      "10 11 12 13 14 15 16      14 15 16 17 18 19 20      11 12 13 14 15 16 17\n",
      "17 18 19 20 21 22 23      21 22 23 24 25 26 27      18 19 20 21 22 23 24\n",
      "24 25 26 27 28 29 30      28 29 30 31               25 26 27 28 29 30\n",
      "31\n",
      "\n",
      "      October                   November                  December\n",
      "Mo Tu We Th Fr Sa Su      Mo Tu We Th Fr Sa Su      Mo Tu We Th Fr Sa Su\n",
      "                   1             1  2  3  4  5                   1  2  3\n",
      " 2  3  4  5  6  7  8       6  7  8  9 10 11 12       4  5  6  7  8  9 10\n",
      " 9 10 11 12 13 14 15      13 14 15 16 17 18 19      11 12 13 14 15 16 17\n",
      "16 17 18 19 20 21 22      20 21 22 23 24 25 26      18 19 20 21 22 23 24\n",
      "23 24 25 26 27 28 29      27 28 29 30               25 26 27 28 29 30 31\n",
      "30 31\n",
      "\n"
     ]
    }
   ],
   "source": [
    "import calendar as c\n",
    "def display_calendar(year):\n",
    "    print(\"The calendar for the input year is below\",c.calendar(year))\n",
    "    \n",
    "display_calendar(int(input(\"Enter the year whose calendar needs to be displayed \")))"
   ]
  },
  {
   "cell_type": "markdown",
   "metadata": {},
   "source": [
    "4.\tWrite a Python program to solve quadratic equation?"
   ]
  },
  {
   "cell_type": "code",
   "execution_count": 3,
   "metadata": {},
   "outputs": [
    {
     "name": "stdout",
     "output_type": "stream",
     "text": [
      "Enter the coeffient for X^2 1\n",
      "Enter the coeffient for X 3\n",
      "Enter the value of constant 2\n",
      "Roots are real and diffrent\n",
      "The roots are -1.1464466094067263 and -1.8535533905932737\n"
     ]
    }
   ],
   "source": [
    "import math\n",
    "def solve_quadratic(a,b,c):\n",
    "    if (a!=0):\n",
    "        discriminant = (b*b - (4*a*c))/2*a\n",
    "        sqrt_value = math.sqrt(abs(discriminant))\n",
    "        \n",
    "        if(discriminant>0):\n",
    "            print(\"Roots are real and diffrent\")\n",
    "            root1 = (-b+sqrt_value)/2*a\n",
    "            root2 = (-b-sqrt_value)/2*a\n",
    "            print(\"The roots are\",root1,\"and\",root2)\n",
    "            \n",
    "        elif(discriminant==0):\n",
    "            print(\"Roots are real and same\")\n",
    "            root = -b/(2*a)\n",
    "            print(\"The roots are\",root,\"and\",root)\n",
    "            \n",
    "        else:\n",
    "            print(\"Roots are complex\") \n",
    "            print(\"First root is\",- b / (2 * a), \" + i\", sqrt_value) \n",
    "            print(\"Second root is\",- b / (2 * a), \" - i\", sqrt_value) \n",
    "    else:\n",
    "        print(\"Invalid quadratic equation\")\n",
    "\n",
    "coeffient1 = int(input(\"Enter the coeffient for X^2 \"))\n",
    "coeffient2 = int(input(\"Enter the coeffient for X \"))\n",
    "coeffient3 = int(input(\"Enter the value of constant \"))\n",
    "\n",
    "solve_quadratic(coeffient1,coeffient2,coeffient3)"
   ]
  },
  {
   "cell_type": "markdown",
   "metadata": {},
   "source": [
    "5.\tWrite a Python program to swap two variables without temp variable?"
   ]
  },
  {
   "cell_type": "code",
   "execution_count": null,
   "metadata": {},
   "outputs": [],
   "source": []
  }
 ],
 "metadata": {
  "kernelspec": {
   "display_name": "Python 3",
   "language": "python",
   "name": "python3"
  },
  "language_info": {
   "codemirror_mode": {
    "name": "ipython",
    "version": 3
   },
   "file_extension": ".py",
   "mimetype": "text/x-python",
   "name": "python",
   "nbconvert_exporter": "python",
   "pygments_lexer": "ipython3",
   "version": "3.8.5"
  }
 },
 "nbformat": 4,
 "nbformat_minor": 4
}
