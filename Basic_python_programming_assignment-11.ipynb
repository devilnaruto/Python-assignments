{
 "cells": [
  {
   "cell_type": "markdown",
   "metadata": {},
   "source": [
    "1.\tWrite a Python program to find words which are greater than given length k?"
   ]
  },
  {
   "cell_type": "code",
   "execution_count": 11,
   "metadata": {},
   "outputs": [],
   "source": [
    "class check:\n",
    "    def __init__(self, sentence, k):\n",
    "        self.sentence = sentence\n",
    "        self.k = k\n",
    "    def check_greater(self):\n",
    "        words_greater_than_k = []\n",
    "        words = self.sentence.split(\" \")\n",
    "        for i in words:\n",
    "            if len(i)>self.k+1:\n",
    "                words_greater_than_k.append(i)\n",
    "        return words_greater_than_k\n",
    "\n",
    "def main():\n",
    "    st = input(\"Enter the sentence: \")\n",
    "    k = int(input(\"Enter the value of K \"))\n",
    "    \n",
    "    a = check(st,k)\n",
    "    print(\"The list of words greater than entered value is\",a.check_greater())\n",
    "                "
   ]
  },
  {
   "cell_type": "code",
   "execution_count": 12,
   "metadata": {},
   "outputs": [
    {
     "name": "stdout",
     "output_type": "stream",
     "text": [
      "Enter the sentence: India is a great country and is full of diversity\n",
      "Enter the value of K 3\n",
      "The list of words greater than entered value is ['India', 'great', 'country', 'diversity']\n"
     ]
    }
   ],
   "source": [
    "main()"
   ]
  },
  {
   "cell_type": "markdown",
   "metadata": {},
   "source": [
    "2.\tWrite a Python program for removing i-th character from a string?"
   ]
  },
  {
   "cell_type": "code",
   "execution_count": 21,
   "metadata": {},
   "outputs": [],
   "source": [
    "class remove:\n",
    "    def __init__(self, sentence, i):\n",
    "        self.sentence = sentence\n",
    "        self.i = i\n",
    "    def remove_char(self):\n",
    "        s1 = self.sentence[:self.i-1]\n",
    "        s2 = self.sentence[self.i:]\n",
    "        return s1+s2\n",
    "            \n",
    "            \n",
    "def main():\n",
    "    st = input(\"Enter the sentence: \")\n",
    "    i = int(input(\"Enter the value of i \"))\n",
    "    \n",
    "    a = remove(st,i)\n",
    "    print(\"The string without the character at the ith position:\",a.remove_char())"
   ]
  },
  {
   "cell_type": "code",
   "execution_count": 22,
   "metadata": {},
   "outputs": [
    {
     "name": "stdout",
     "output_type": "stream",
     "text": [
      "Enter the sentence: dataisfun\n",
      "Enter the value of i 4\n",
      "The string without the character at the ith position: datisfun\n"
     ]
    }
   ],
   "source": [
    "main()"
   ]
  },
  {
   "cell_type": "markdown",
   "metadata": {},
   "source": [
    "3.\tWrite a Python program to split and join a string?"
   ]
  },
  {
   "cell_type": "code",
   "execution_count": 33,
   "metadata": {},
   "outputs": [],
   "source": [
    "class string:\n",
    "    def __init__(self, sentence):\n",
    "        self.sentence = sentence\n",
    "        \n",
    "    def split_string(self, separator, maxsplit):\n",
    "        s=self.sentence.split(separator, maxsplit)\n",
    "        return s\n",
    "    def join_string(self,s2):\n",
    "        words = self.sentence.split(\" \")\n",
    "        return s2.join(words)\n",
    "        \n",
    "        \n",
    "            \n",
    "            \n",
    "def main():\n",
    "    st = input(\"Enter the sentence: \")\n",
    "    i = int(input(\"Enter option 1 for spliting or option 2 for joining\"))\n",
    "    a = string(st)\n",
    "    if i==1:\n",
    "        separator, maxsplit = input(\"Enter the sperator\"),int(input(\"Enter the max number of split\"))\n",
    "        print(\"The result is:\",a.split_string(separator, maxsplit))\n",
    "    elif i==2:\n",
    "        st2 = input(\"Enter the sperator which you want to us to join the entered sentence\")\n",
    "        print(\"The result is:\",a.join_string(st2))\n",
    "        \n",
    "    \n",
    "    "
   ]
  },
  {
   "cell_type": "code",
   "execution_count": 34,
   "metadata": {},
   "outputs": [
    {
     "name": "stdout",
     "output_type": "stream",
     "text": [
      "Enter the sentence: data is fun and cool\n",
      "Enter option 1 for spliting or option 2 for joining2\n",
      "Enter the sperator which you want to us to join the entered sentence*\n",
      "The result is: data*is*fun*and*cool\n"
     ]
    }
   ],
   "source": [
    "main()"
   ]
  },
  {
   "cell_type": "code",
   "execution_count": 36,
   "metadata": {},
   "outputs": [
    {
     "name": "stdout",
     "output_type": "stream",
     "text": [
      "Enter the sentence: data is fun and cool\n",
      "Enter option 1 for spliting or option 2 for joining1\n",
      "Enter the speratora\n",
      "Enter the max number of split4\n",
      "The result is: ['d', 't', ' is fun ', 'nd cool']\n"
     ]
    }
   ],
   "source": [
    "main()"
   ]
  },
  {
   "cell_type": "markdown",
   "metadata": {},
   "source": [
    "4.\tWrite a Python to check if a given string is binary string or not?"
   ]
  },
  {
   "cell_type": "code",
   "execution_count": 92,
   "metadata": {},
   "outputs": [],
   "source": [
    "class binary_string:\n",
    "    def __init__(self, sentence):\n",
    "        self.sentence = sentence\n",
    "        \n",
    "    def check(self):\n",
    "        flag = 0\n",
    "        for i in self.sentence:\n",
    "            if (i!=\"1\") and (i!=\"0\"):\n",
    "                flag= 1\n",
    "                break\n",
    "            else:\n",
    "                pass\n",
    "        if flag ==0:\n",
    "            print(\"The string is binary string\")\n",
    "        else:\n",
    "            print(\"The string is not binary string\")\n",
    "         \n",
    "            \n",
    "            \n",
    "            \n",
    "def main():\n",
    "    st = input(\"Enter the sentence: \")\n",
    "    \n",
    "    a = binary_string(st)\n",
    "    a.check()\n",
    "        "
   ]
  },
  {
   "cell_type": "code",
   "execution_count": 94,
   "metadata": {},
   "outputs": [
    {
     "name": "stdout",
     "output_type": "stream",
     "text": [
      "Enter the sentence: 01hg\n",
      "The string is not binary string\n"
     ]
    }
   ],
   "source": [
    "main()"
   ]
  },
  {
   "cell_type": "markdown",
   "metadata": {},
   "source": [
    "5.\tWrite a Python program to find uncommon words from two Strings?"
   ]
  },
  {
   "cell_type": "code",
   "execution_count": 111,
   "metadata": {},
   "outputs": [],
   "source": [
    "class uncommon_string:\n",
    "    def __init__(self, sentence1, sentence2):\n",
    "        self.sentence1 = sentence1\n",
    "        self.sentence2 = sentence2\n",
    "        \n",
    "    def uncommon(self):\n",
    "        words1 = self.sentence1.split(\" \")\n",
    "        words2 = self.sentence2.split(\" \")\n",
    "        s1 =[]\n",
    "        s2 =[]\n",
    "        \n",
    "        for i,j in zip(words1,words2):\n",
    "            if i!=j:\n",
    "                s1.append(i)\n",
    "                s2.append(j)\n",
    "            else:\n",
    "                continue\n",
    "        return s1+s2\n",
    "         \n",
    "            \n",
    "            \n",
    "            \n",
    "def main():\n",
    "    st1 = input(\"Enter the 1st sentence: \")\n",
    "    st2 = input(\"Enter the 2nd sentence: \")\n",
    "    \n",
    "    a = uncommon_string(st1, st2)\n",
    "    print(\"The uncommon words in both the sentences are:\",a.uncommon())"
   ]
  },
  {
   "cell_type": "code",
   "execution_count": 112,
   "metadata": {},
   "outputs": [
    {
     "name": "stdout",
     "output_type": "stream",
     "text": [
      "Enter the 1st sentence: Python is fun\n",
      "Enter the 2nd sentence: Python is cool\n",
      "The uncommon words in both the sentences are: ['fun', 'cool']\n"
     ]
    }
   ],
   "source": [
    "main()"
   ]
  },
  {
   "cell_type": "markdown",
   "metadata": {},
   "source": [
    "6.\tWrite a Python to find all duplicate characters in string?"
   ]
  },
  {
   "cell_type": "code",
   "execution_count": 150,
   "metadata": {},
   "outputs": [],
   "source": [
    "class duplicate_char:\n",
    "    def __init__(self, sentence):\n",
    "        self.sentence = sentence\n",
    "        \n",
    "    def duplicate(self):\n",
    "        d = {}\n",
    "        count = 0\n",
    "        for i in range(len(self.sentence)):\n",
    "            for j in range(len(self.sentence)):\n",
    "                if self.sentence[i]==self.sentence[j]:\n",
    "                    count+=1\n",
    "                    d[self.sentence[i]]=count\n",
    "            count = 0\n",
    "            \n",
    "            \n",
    "        return d\n",
    "                    \n",
    "                    \n",
    "def main():\n",
    "    st = input(\"Enter the sentence: \")\n",
    "    \n",
    "    a = duplicate_char(st)\n",
    "    b = a.duplicate()\n",
    "    c =[]\n",
    "    j = -1\n",
    "    print(\"The duplicate character are:\")\n",
    "    for i in b.values():\n",
    "        j = j + 1\n",
    "        if( i > 1 ):\n",
    "            print(list(b.keys())[j])"
   ]
  },
  {
   "cell_type": "code",
   "execution_count": 151,
   "metadata": {},
   "outputs": [
    {
     "name": "stdout",
     "output_type": "stream",
     "text": [
      "Enter the sentence: ffgghijk\n",
      "The duplicate character are:\n",
      "f\n",
      "g\n"
     ]
    }
   ],
   "source": [
    "main()"
   ]
  },
  {
   "cell_type": "markdown",
   "metadata": {},
   "source": [
    "7.\tWrite a Python Program to check if a string contains any special character?"
   ]
  },
  {
   "cell_type": "code",
   "execution_count": 161,
   "metadata": {},
   "outputs": [],
   "source": [
    "class special_check:\n",
    "    def __init__(self, sentence):\n",
    "        self.sentence = sentence\n",
    "        \n",
    "    def check(self):\n",
    "        special_character_list = '[@_!#$%^&*()<>?/\\|}{~:]'\n",
    "        flag = 0\n",
    "        for i in self.sentence:\n",
    "            if i in special_character_list:\n",
    "                flag = 1\n",
    "                break\n",
    "                \n",
    "                \n",
    "        if flag ==1:\n",
    "            print(\"The string contains speacial character\")\n",
    "        else:\n",
    "            print(\"The string does not contains speacial character\")\n",
    "         \n",
    "        \n",
    "def main():\n",
    "    st = input(\"Enter the sentence: \")\n",
    "    \n",
    "    a = special_check(st)\n",
    "    a.check()\n",
    "        "
   ]
  },
  {
   "cell_type": "code",
   "execution_count": 163,
   "metadata": {},
   "outputs": [
    {
     "name": "stdout",
     "output_type": "stream",
     "text": [
      "Enter the sentence: ghyjk\n",
      "The string does not contains speacial character\n"
     ]
    }
   ],
   "source": [
    "main()"
   ]
  },
  {
   "cell_type": "code",
   "execution_count": 164,
   "metadata": {},
   "outputs": [
    {
     "name": "stdout",
     "output_type": "stream",
     "text": [
      "Enter the sentence: gh%lk\n",
      "The string contains speacial character\n"
     ]
    }
   ],
   "source": [
    "main()"
   ]
  },
  {
   "cell_type": "code",
   "execution_count": null,
   "metadata": {},
   "outputs": [],
   "source": []
  }
 ],
 "metadata": {
  "kernelspec": {
   "display_name": "Python 3",
   "language": "python",
   "name": "python3"
  },
  "language_info": {
   "codemirror_mode": {
    "name": "ipython",
    "version": 3
   },
   "file_extension": ".py",
   "mimetype": "text/x-python",
   "name": "python",
   "nbconvert_exporter": "python",
   "pygments_lexer": "ipython3",
   "version": "3.8.5"
  }
 },
 "nbformat": 4,
 "nbformat_minor": 4
}
