{
 "cells": [
  {
   "cell_type": "markdown",
   "metadata": {},
   "source": [
    "1.\tWrite a Python program to find sum of elements in list?"
   ]
  },
  {
   "cell_type": "code",
   "execution_count": 5,
   "metadata": {},
   "outputs": [],
   "source": [
    "class sum_of_list:\n",
    "    def __init__(self, arr, number_of_elements):\n",
    "        self.arr = arr\n",
    "        self.number_of_elements = number_of_elements\n",
    "    def sum_list(self):\n",
    "        sum1 = 0\n",
    "        for i in range(self.number_of_elements):\n",
    "            sum1 = sum1 + self.arr[i]\n",
    "        \n",
    "        return sum1    \n",
    "\n",
    "def main():\n",
    "    n = int(input(\"Enter number of elements : \"))\n",
    "    l =[]\n",
    "    for j in range(n):\n",
    "        element = int(input(\"Enter the element \"))\n",
    "        l.append(element)\n",
    "    \n",
    "    a = sum_of_list(l,n)\n",
    "    print(\"The sum of the elements is\",a.sum_list())"
   ]
  },
  {
   "cell_type": "code",
   "execution_count": 6,
   "metadata": {},
   "outputs": [
    {
     "name": "stdout",
     "output_type": "stream",
     "text": [
      "Enter number of elements : 4\n",
      "Enter the element 1\n",
      "Enter the element 2\n",
      "Enter the element 3\n",
      "Enter the element 4\n",
      "The sum of the elements is 10\n"
     ]
    }
   ],
   "source": [
    "main()"
   ]
  },
  {
   "cell_type": "markdown",
   "metadata": {},
   "source": [
    "2.\tWrite a Python program to  Multiply all numbers in the list?"
   ]
  },
  {
   "cell_type": "code",
   "execution_count": 7,
   "metadata": {},
   "outputs": [],
   "source": [
    "class multiply_of_list:\n",
    "    def __init__(self, arr, number_of_elements):\n",
    "        self.arr = arr\n",
    "        self.number_of_elements = number_of_elements\n",
    "    def multiply_list(self):\n",
    "        multiply = 1\n",
    "        for i in range(self.number_of_elements):\n",
    "            multiply = multiply * self.arr[i]\n",
    "        \n",
    "        return multiply    \n",
    "\n",
    "def main():\n",
    "    n = int(input(\"Enter number of elements : \"))\n",
    "    l =[]\n",
    "    for j in range(n):\n",
    "        element = int(input(\"Enter the element \"))\n",
    "        l.append(element)\n",
    "    \n",
    "    a = multiply_of_list(l,n)\n",
    "    print(\"The multiplication of the elements is\",a.multiply_list())"
   ]
  },
  {
   "cell_type": "code",
   "execution_count": 8,
   "metadata": {},
   "outputs": [
    {
     "name": "stdout",
     "output_type": "stream",
     "text": [
      "Enter number of elements : 4\n",
      "Enter the element 1\n",
      "Enter the element 2\n",
      "Enter the element 3\n",
      "Enter the element 4\n",
      "The multiplication of the elements is 24\n"
     ]
    }
   ],
   "source": [
    "main()"
   ]
  },
  {
   "cell_type": "markdown",
   "metadata": {},
   "source": [
    "3.\tWrite a Python program to find smallest number in a list?"
   ]
  },
  {
   "cell_type": "code",
   "execution_count": 13,
   "metadata": {},
   "outputs": [],
   "source": [
    "class smallest_of_list:\n",
    "    def __init__(self, arr, number_of_elements):\n",
    "        self.arr = arr\n",
    "        self.number_of_elements = number_of_elements\n",
    "    def smallest_list(self):\n",
    "        smallest = self.arr[0]\n",
    "        for i in range(self.number_of_elements):\n",
    "            if self.arr[i]<smallest:\n",
    "                smallest = self.arr[i]\n",
    "        \n",
    "        return smallest        \n",
    "    \n",
    "def main():\n",
    "    n = int(input(\"Enter number of elements : \"))\n",
    "    l =[]\n",
    "    for j in range(n):\n",
    "        element = int(input(\"Enter the element \"))\n",
    "        l.append(element)\n",
    "    \n",
    "    a = smallest_of_list(l,n)\n",
    "    print(\"The smallest of the elements is\",a.smallest_list())\n",
    "    \n"
   ]
  },
  {
   "cell_type": "code",
   "execution_count": 14,
   "metadata": {},
   "outputs": [
    {
     "name": "stdout",
     "output_type": "stream",
     "text": [
      "Enter number of elements : 4\n",
      "Enter the element 2\n",
      "Enter the element 3\n",
      "Enter the element 45\n",
      "Enter the element 4\n",
      "The smallest of the elements is 2\n"
     ]
    }
   ],
   "source": [
    "main()"
   ]
  },
  {
   "cell_type": "markdown",
   "metadata": {},
   "source": [
    "4.\tWrite a Python program to find largest number in a list?"
   ]
  },
  {
   "cell_type": "code",
   "execution_count": 17,
   "metadata": {},
   "outputs": [],
   "source": [
    "class largest_of_list:\n",
    "    def __init__(self, arr, number_of_elements):\n",
    "        self.arr = arr\n",
    "        self.number_of_elements = number_of_elements\n",
    "    def largest_list(self):\n",
    "        largest = self.arr[0]\n",
    "        for i in range(self.number_of_elements):\n",
    "            if self.arr[i]>largest:\n",
    "                largest = self.arr[i]\n",
    "        \n",
    "        return largest        \n",
    "    \n",
    "def main():\n",
    "    n = int(input(\"Enter number of elements : \"))\n",
    "    l =[]\n",
    "    for j in range(n):\n",
    "        element = int(input(\"Enter the element \"))\n",
    "        l.append(element)\n",
    "    \n",
    "    a = largest_of_list(l,n)\n",
    "    print(\"The largest of the elements is\",a.largest_list())"
   ]
  },
  {
   "cell_type": "code",
   "execution_count": 18,
   "metadata": {},
   "outputs": [
    {
     "name": "stdout",
     "output_type": "stream",
     "text": [
      "Enter number of elements : 4\n",
      "Enter the element 23\n",
      "Enter the element 345\n",
      "Enter the element 3\n",
      "Enter the element 4\n",
      "The largest of the elements is 345\n"
     ]
    }
   ],
   "source": [
    "main()"
   ]
  },
  {
   "cell_type": "markdown",
   "metadata": {},
   "source": [
    "5.\tWrite a Python program to find second largest number in a list?"
   ]
  },
  {
   "cell_type": "code",
   "execution_count": 23,
   "metadata": {},
   "outputs": [],
   "source": [
    "class second_largest_of_list:\n",
    "    def __init__(self, arr, number_of_elements):\n",
    "        self.arr = arr\n",
    "        self.number_of_elements = number_of_elements\n",
    "    def second_largest_list(self):\n",
    "        s = set(self.arr)\n",
    "        unique_list = list(s)\n",
    "        unique_list.sort(reverse = True)\n",
    "        \n",
    "        return unique_list[1]      \n",
    "    \n",
    "def main():\n",
    "    n = int(input(\"Enter number of elements : \"))\n",
    "    l =[]\n",
    "    for j in range(n):\n",
    "        element = int(input(\"Enter the element \"))\n",
    "        l.append(element)\n",
    "    \n",
    "    a = second_largest_of_list(l,n)\n",
    "    print(\"The second largest of the elements is\",a.second_largest_list())"
   ]
  },
  {
   "cell_type": "code",
   "execution_count": 25,
   "metadata": {},
   "outputs": [
    {
     "name": "stdout",
     "output_type": "stream",
     "text": [
      "Enter number of elements : 6\n",
      "Enter the element 23\n",
      "Enter the element 34\n",
      "Enter the element 45\n",
      "Enter the element 45\n",
      "Enter the element 67\n",
      "Enter the element 32\n",
      "The second largest of the elements is 45\n"
     ]
    }
   ],
   "source": [
    "main()"
   ]
  },
  {
   "cell_type": "markdown",
   "metadata": {},
   "source": [
    "6.\tWrite a Python program to find N largest elements from a list?"
   ]
  },
  {
   "cell_type": "code",
   "execution_count": 39,
   "metadata": {},
   "outputs": [],
   "source": [
    "class n_largest_of_list:\n",
    "    def __init__(self, arr, number_of_elements, n):\n",
    "        self.arr = arr\n",
    "        self.number_of_elements = number_of_elements\n",
    "        self.n = n\n",
    "    def n_largest_list(self):\n",
    "        s = set(self.arr)\n",
    "        unique_list = list(s)\n",
    "        unique_list.sort(reverse = True)\n",
    "        \n",
    "        return unique_list[self.n-1]      \n",
    "    \n",
    "def main():\n",
    "    n = int(input(\"Enter number of elements : \"))\n",
    "    l =[]\n",
    "    for j in range(n):\n",
    "        element = int(input(\"Enter the element \"))\n",
    "        l.append(element)\n",
    "    n_element = int(input(\"Enter the n value to find n largest element in list \"))\n",
    "    a = n_largest_of_list(l,n, n_element)\n",
    "    print(\"The Nth largest of the elements is\",a.n_largest_list())"
   ]
  },
  {
   "cell_type": "code",
   "execution_count": 40,
   "metadata": {},
   "outputs": [
    {
     "name": "stdout",
     "output_type": "stream",
     "text": [
      "Enter number of elements : 6\n",
      "Enter the element 23\n",
      "Enter the element 34\n",
      "Enter the element 45\n",
      "Enter the element 67\n",
      "Enter the element 100\n",
      "Enter the element 37\n",
      "Enter the n value to find n largest element in list 3\n",
      "The Nth largest of the elements is 45\n"
     ]
    }
   ],
   "source": [
    "main()"
   ]
  },
  {
   "cell_type": "markdown",
   "metadata": {},
   "source": [
    "7.\tWrite a Python program to print even numbers in a list?"
   ]
  },
  {
   "cell_type": "code",
   "execution_count": 8,
   "metadata": {},
   "outputs": [],
   "source": [
    "class even_of_list:\n",
    "    def __init__(self, arr, number_of_elements):\n",
    "        self.arr = arr\n",
    "        self.number_of_elements = number_of_elements\n",
    "    def even_list(self):\n",
    "        list_of_even_number =[]\n",
    "        for i in range(self.number_of_elements):\n",
    "            if self.arr[i]%2==0:\n",
    "                list_of_even_number.append(self.arr[i])\n",
    "        \n",
    "        return list_of_even_number\n",
    "                \n",
    "    \n",
    "def main():\n",
    "    n = int(input(\"Enter number of elements : \"))\n",
    "    l =[]\n",
    "    for j in range(n):\n",
    "        element = int(input(\"Enter the element \"))\n",
    "        l.append(element)\n",
    "    \n",
    "    a = even_of_list(l,n)\n",
    "    print(\"The even numbers in the list are\",a.even_list())"
   ]
  },
  {
   "cell_type": "code",
   "execution_count": 9,
   "metadata": {},
   "outputs": [
    {
     "name": "stdout",
     "output_type": "stream",
     "text": [
      "Enter number of elements : 6\n",
      "Enter the element 1\n",
      "Enter the element 2\n",
      "Enter the element 3\n",
      "Enter the element 4\n",
      "Enter the element 5\n",
      "Enter the element 7\n",
      "The even numbers in the list are [2, 4]\n"
     ]
    }
   ],
   "source": [
    "main()"
   ]
  },
  {
   "cell_type": "markdown",
   "metadata": {},
   "source": [
    "8.\tWrite a Python program to print odd numbers in a List?"
   ]
  },
  {
   "cell_type": "code",
   "execution_count": 10,
   "metadata": {},
   "outputs": [],
   "source": [
    "class odd_of_list:\n",
    "    def __init__(self, arr, number_of_elements):\n",
    "        self.arr = arr\n",
    "        self.number_of_elements = number_of_elements\n",
    "    def odd_list(self):\n",
    "        list_of_odd_number =[]\n",
    "        for i in range(self.number_of_elements):\n",
    "            if self.arr[i]%2!=0:\n",
    "                list_of_odd_number.append(self.arr[i])\n",
    "        \n",
    "        return list_of_odd_number\n",
    "                \n",
    "    \n",
    "def main():\n",
    "    n = int(input(\"Enter number of elements : \"))\n",
    "    l =[]\n",
    "    for j in range(n):\n",
    "        element = int(input(\"Enter the element \"))\n",
    "        l.append(element)\n",
    "    \n",
    "    a = odd_of_list(l,n)\n",
    "    print(\"The odd numbers in the list are\",a.odd_list())"
   ]
  },
  {
   "cell_type": "code",
   "execution_count": 11,
   "metadata": {},
   "outputs": [
    {
     "name": "stdout",
     "output_type": "stream",
     "text": [
      "Enter number of elements : 5\n",
      "Enter the element 1\n",
      "Enter the element 2\n",
      "Enter the element 3\n",
      "Enter the element 4\n",
      "Enter the element 8\n",
      "The odd numbers in the list are [1, 3]\n"
     ]
    }
   ],
   "source": [
    "main()"
   ]
  },
  {
   "cell_type": "markdown",
   "metadata": {},
   "source": [
    "9.\tWrite a Python program to Remove empty List from List?"
   ]
  },
  {
   "cell_type": "code",
   "execution_count": 33,
   "metadata": {},
   "outputs": [],
   "source": [
    "class remove_empty_list:\n",
    "    def __init__(self, arr, number_of_elements):\n",
    "        self.arr = arr\n",
    "        self.number_of_elements = number_of_elements\n",
    "    def remove(self):\n",
    "        list_without_null_list = [i for i in self.arr if i!='[]']\n",
    "        return list_without_null_list\n",
    "                \n",
    "                \n",
    "    \n",
    "def main():\n",
    "    n = int(input(\"Enter number of elements : \"))\n",
    "    l =[]\n",
    "    for j in range(n):\n",
    "        element = input(\"Enter the element \")\n",
    "        l.append(element)\n",
    "    \n",
    "    a = remove_empty_list(l,n)\n",
    "    print(\"The list after removal of empty list if any\",str(a.remove()))"
   ]
  },
  {
   "cell_type": "code",
   "execution_count": 35,
   "metadata": {},
   "outputs": [
    {
     "name": "stdout",
     "output_type": "stream",
     "text": [
      "Enter number of elements : 5\n",
      "Enter the element 2\n",
      "Enter the element []\n",
      "Enter the element 3\n",
      "Enter the element [2,3,4]\n",
      "Enter the element []\n",
      "The list after removal of empty list if any ['2', '3', '[2,3,4]']\n"
     ]
    }
   ],
   "source": [
    "main()"
   ]
  },
  {
   "cell_type": "markdown",
   "metadata": {},
   "source": [
    "10.\tWrite a Python program to Cloning or Copying a list?"
   ]
  },
  {
   "cell_type": "code",
   "execution_count": 55,
   "metadata": {},
   "outputs": [],
   "source": [
    "class copy_of_list:\n",
    "    def __init__(self, arr, number_of_elements):\n",
    "        self.arr = arr\n",
    "        self.number_of_elements = number_of_elements\n",
    "    def copy_list(self):\n",
    "        copy_list = []\n",
    "        for i in range(self.number_of_elements):\n",
    "            copy_list.append(self.arr[i])\n",
    "        \n",
    "        return copy_list\n",
    "                \n",
    "    \n",
    "def main():\n",
    "    n = int(input(\"Enter number of elements : \"))\n",
    "    l =[]\n",
    "    for j in range(n):\n",
    "        element = int(input(\"Enter the element \"))\n",
    "        l.append(element)\n",
    "    \n",
    "    a = copy_of_list(l,n)\n",
    "    print(\"The copied new list is\",a.copy_list())"
   ]
  },
  {
   "cell_type": "code",
   "execution_count": 56,
   "metadata": {},
   "outputs": [
    {
     "name": "stdout",
     "output_type": "stream",
     "text": [
      "Enter number of elements : 4\n",
      "Enter the element 1\n",
      "Enter the element 2\n",
      "Enter the element 3\n",
      "Enter the element 4\n",
      "The copied new list is [1, 2, 3, 4]\n"
     ]
    }
   ],
   "source": [
    "main()"
   ]
  },
  {
   "cell_type": "markdown",
   "metadata": {},
   "source": [
    "11.\tWrite a Python program to Count occurrences of an element in a list?"
   ]
  },
  {
   "cell_type": "code",
   "execution_count": 12,
   "metadata": {},
   "outputs": [],
   "source": [
    "class frequency_element_in_list:\n",
    "    def __init__(self, arr, number_of_elements):\n",
    "        self.arr = arr\n",
    "        self.number_of_elements = number_of_elements\n",
    "    def frequency_list(self):\n",
    "        d = {}\n",
    "        count = 0\n",
    "        for i in range(self.number_of_elements):\n",
    "            for j in range(self.number_of_elements):\n",
    "                if self.arr[i]==self.arr[j]:\n",
    "                    count+=1\n",
    "                    d[self.arr[i]]=count\n",
    "            count = 0\n",
    "            \n",
    "            \n",
    "        return d\n",
    "                \n",
    "    \n",
    "def main():\n",
    "    n = int(input(\"Enter number of elements : \"))\n",
    "    l =[]\n",
    "    for j in range(n):\n",
    "        element = int(input(\"Enter the element \"))\n",
    "        l.append(element)\n",
    "    \n",
    "    a = frequency_element_in_list(l,n)\n",
    "    print(\"The key and value pair where key represents the number and value represents the freuencey of the number\",a.frequency_list())"
   ]
  },
  {
   "cell_type": "code",
   "execution_count": 13,
   "metadata": {},
   "outputs": [
    {
     "name": "stdout",
     "output_type": "stream",
     "text": [
      "Enter number of elements : 6\n",
      "Enter the element 22\n",
      "Enter the element 22\n",
      "Enter the element 33\n",
      "Enter the element 44\n",
      "Enter the element 44\n",
      "Enter the element 33\n",
      "The key and value pair where key represents the number and value represents the freuencey of the number {22: 2, 33: 2, 44: 2}\n"
     ]
    }
   ],
   "source": [
    "main()"
   ]
  },
  {
   "cell_type": "code",
   "execution_count": null,
   "metadata": {},
   "outputs": [],
   "source": []
  }
 ],
 "metadata": {
  "kernelspec": {
   "display_name": "Python 3",
   "language": "python",
   "name": "python3"
  },
  "language_info": {
   "codemirror_mode": {
    "name": "ipython",
    "version": 3
   },
   "file_extension": ".py",
   "mimetype": "text/x-python",
   "name": "python",
   "nbconvert_exporter": "python",
   "pygments_lexer": "ipython3",
   "version": "3.8.5"
  }
 },
 "nbformat": 4,
 "nbformat_minor": 4
}
