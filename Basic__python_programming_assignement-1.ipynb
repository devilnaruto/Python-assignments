{
 "cells": [
  {
   "cell_type": "code",
   "execution_count": null,
   "metadata": {},
   "outputs": [],
   "source": [
    "1.\tWrite a Python program to print \"Hello Python\"?\n",
    "\n"
   ]
  },
  {
   "cell_type": "code",
   "execution_count": 2,
   "metadata": {},
   "outputs": [
    {
     "name": "stdout",
     "output_type": "stream",
     "text": [
      "Hello Python\n"
     ]
    }
   ],
   "source": [
    "def printing():\n",
    "    s=\"Hello Python\"\n",
    "    return s\n",
    "\n",
    "\n",
    "print(printing())"
   ]
  },
  {
   "cell_type": "code",
   "execution_count": null,
   "metadata": {},
   "outputs": [],
   "source": [
    "2.\tWrite a Python program to do arithmetical operations addition and division.?\n"
   ]
  },
  {
   "cell_type": "code",
   "execution_count": 4,
   "metadata": {},
   "outputs": [
    {
     "name": "stdout",
     "output_type": "stream",
     "text": [
      "Enter 1st number 8\n",
      "Enter 2nd number 2\n",
      "Sum of the numbers is 10\n",
      "Division of the numbers is 4.0\n"
     ]
    }
   ],
   "source": [
    "def add_div(a,b):\n",
    "    return a+b,a/b\n",
    "\n",
    "Sum, div= add_div(int(input(\"Enter 1st number \")), int(input(\"Enter 2nd number \")))\n",
    "\n",
    "print(\"Sum of the numbers is\",Sum)\n",
    "print(\"Division of the numbers is\",div)"
   ]
  },
  {
   "cell_type": "code",
   "execution_count": null,
   "metadata": {},
   "outputs": [],
   "source": [
    "3.\tWrite a Python program to find the area of a triangle?\n"
   ]
  },
  {
   "cell_type": "code",
   "execution_count": 5,
   "metadata": {},
   "outputs": [
    {
     "name": "stdout",
     "output_type": "stream",
     "text": [
      "Enter base of triangle 2\n",
      "Enter height of triangle 2\n",
      "Area of triangle is 2.0\n"
     ]
    }
   ],
   "source": [
    "def area_triangle(b,h):\n",
    "    A = 0.5*(b*h)\n",
    "    return A\n",
    "\n",
    "Area = area_triangle(int(input(\"Enter base of triangle \")), int(input(\"Enter height of triangle \")))\n",
    "\n",
    "print(\"Area of triangle is\",Area)"
   ]
  },
  {
   "cell_type": "code",
   "execution_count": null,
   "metadata": {},
   "outputs": [],
   "source": [
    "4.\tWrite a Python program to swap two variables?\n"
   ]
  },
  {
   "cell_type": "code",
   "execution_count": 11,
   "metadata": {},
   "outputs": [
    {
     "name": "stdout",
     "output_type": "stream",
     "text": [
      "Enter 1st number 5\n",
      "enter 2nd value 4\n",
      "Value of a and b is 5 and 4\n",
      "After swap value of a is 4\n",
      "After swap value of b is 5\n"
     ]
    }
   ],
   "source": [
    "def swap(a,b):\n",
    "    print(\"Value of a and b is\",a,\"and\",b)\n",
    "    a = a+b\n",
    "    b = a-b\n",
    "    a = a-b\n",
    "    print(\"After swap value of a is\",a)\n",
    "    print(\"After swap value of b is\",b)\n",
    "\n",
    "swap(int(input(\"Enter 1st number \")),int(input(\"enter 2nd value \")))"
   ]
  },
  {
   "cell_type": "code",
   "execution_count": null,
   "metadata": {},
   "outputs": [],
   "source": [
    "5.\tWrite a Python program to generate a random number?"
   ]
  },
  {
   "cell_type": "code",
   "execution_count": 18,
   "metadata": {},
   "outputs": [
    {
     "name": "stdout",
     "output_type": "stream",
     "text": [
      "0.8150953783583176\n"
     ]
    }
   ],
   "source": [
    "import random\n",
    "def show_random_number():\n",
    "    random_number= random. random() \n",
    "    print(random_number)\n",
    "    \n",
    "show_random_number()"
   ]
  },
  {
   "cell_type": "code",
   "execution_count": null,
   "metadata": {},
   "outputs": [],
   "source": []
  },
  {
   "cell_type": "code",
   "execution_count": null,
   "metadata": {},
   "outputs": [],
   "source": []
  }
 ],
 "metadata": {
  "kernelspec": {
   "display_name": "Python 3",
   "language": "python",
   "name": "python3"
  },
  "language_info": {
   "codemirror_mode": {
    "name": "ipython",
    "version": 3
   },
   "file_extension": ".py",
   "mimetype": "text/x-python",
   "name": "python",
   "nbconvert_exporter": "python",
   "pygments_lexer": "ipython3",
   "version": "3.8.5"
  }
 },
 "nbformat": 4,
 "nbformat_minor": 4
}
