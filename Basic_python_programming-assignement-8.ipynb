{
 "cells": [
  {
   "cell_type": "markdown",
   "metadata": {},
   "source": [
    "1.\tWrite a Python Program to Add Two Matrices?"
   ]
  },
  {
   "cell_type": "code",
   "execution_count": 17,
   "metadata": {},
   "outputs": [],
   "source": [
    "import numpy as np\n",
    "\n",
    "class add_matrice:\n",
    "    def __init__(self, arr1, arr2, m, n):\n",
    "        self.arr1 = arr1\n",
    "        self.arr2 = arr2\n",
    "        self.m = m\n",
    "        self.n = n\n",
    "        \n",
    "    def add(self):\n",
    "        ##Creating mxn empty array\n",
    "        sum_matrix = np.empty((self.m, self.n), int)\n",
    "        for i in range(self.m):\n",
    "            for j in range(self.n):\n",
    "                sum_matrix[i][j] = int(self.arr1[i][j]+ self.arr2[i][j])\n",
    "        ##Display the final matrix\n",
    "        for i in range(self.m):\n",
    "            for j in range(self.n):\n",
    "                print(sum_matrix[i][j], end = \"  \")\n",
    "            print()\n",
    "\n",
    "def main():\n",
    "    m,n = int(input(\"Enter number of rows for 1st array : \")), int(input(\"Enter number of columns for 1st array: \"))\n",
    "    m1,n1 = int(input(\"Enter number of rows for 2nd array : \")), int(input(\"Enter number of columns for 2nd array: \"))\n",
    "    if m==m1 and n==n1:\n",
    "        matrix1 = []\n",
    "        matrix2 = []\n",
    "        \n",
    "        print(\"Enter elements for 1st array\")\n",
    "        for i in range(m):\n",
    "            r =[]\n",
    "            for j in range(n):\n",
    "                element = int(input(\"Enter the element \"))\n",
    "                r.append(element)\n",
    "            matrix1.append(r)\n",
    "        print(\"Enter elements for 2nd array\")\n",
    "        for i in range(m):\n",
    "            r1 =[]\n",
    "            for j in range(n):\n",
    "                element = int(input(\"Enter the element \"))\n",
    "                r1.append(element)\n",
    "            matrix2.append(r1)\n",
    "    else:\n",
    "        print(\"The row number and column number of two martix needs to be same \")\n",
    "            \n",
    "    a = add_matrice(matrix1, matrix2, m, n)\n",
    "    print(\"Added matrix is below\")\n",
    "    a.add()       "
   ]
  },
  {
   "cell_type": "code",
   "execution_count": 18,
   "metadata": {},
   "outputs": [
    {
     "name": "stdout",
     "output_type": "stream",
     "text": [
      "Enter number of rows for 1st array : 2\n",
      "Enter number of columns for 1st array: 2\n",
      "Enter number of rows for 2nd array : 2\n",
      "Enter number of columns for 2nd array: 2\n",
      "Enter elements for 1st array\n",
      "Enter the element 1\n",
      "Enter the element 2\n",
      "Enter the element 3\n",
      "Enter the element 4\n",
      "Enter elements for 2nd array\n",
      "Enter the element 1\n",
      "Enter the element 2\n",
      "Enter the element 3\n",
      "Enter the element 4\n",
      "Added matrix is below\n",
      "2  4  \n",
      "6  8  \n"
     ]
    }
   ],
   "source": [
    "main()"
   ]
  },
  {
   "cell_type": "markdown",
   "metadata": {},
   "source": [
    "2.\tWrite a Python Program to Multiply Two Matrices?"
   ]
  },
  {
   "cell_type": "code",
   "execution_count": 19,
   "metadata": {},
   "outputs": [],
   "source": [
    "import numpy as np\n",
    "\n",
    "class multiply_matrice:\n",
    "    def __init__(self, arr1, arr2, m, n):\n",
    "        self.arr1 = arr1\n",
    "        self.arr2 = arr2\n",
    "        self.m = m\n",
    "        self.n = n\n",
    "        \n",
    "    def multiply(self):\n",
    "        \n",
    "        multiply_matrix1 = np.zeros((self.m, self.n))\n",
    "        multiply_matrix= multiply_matrix1.astype(int)\n",
    "        for i in range(len(self.arr1)):\n",
    "            for j in range(len(self.arr2[0])):\n",
    "                for k in range(len(self.arr2)):\n",
    "                    multiply_matrix[i][j] += self.arr1[i][k] * self.arr2[k][j]\n",
    "        \n",
    "        ##Display the final matrix\n",
    "        for i in range(self.m):\n",
    "            for j in range(self.n):\n",
    "                print(multiply_matrix[i][j], end = \"  \")\n",
    "            print()\n",
    "\n",
    "def main():\n",
    "    m,n = int(input(\"Enter number of rows for 1st array : \")), int(input(\"Enter number of columns for 1st array: \"))\n",
    "    m1,n1 = int(input(\"Enter number of rows for 2nd array : \")), int(input(\"Enter number of columns for 2nd array: \"))\n",
    "    if n==m1:\n",
    "        matrix1 = []\n",
    "        matrix2 = []\n",
    "        \n",
    "        print(\"Enter elements for 1st array\")\n",
    "        for i in range(m):\n",
    "            r =[]\n",
    "            for j in range(n):\n",
    "                element = int(input(\"Enter the element \"))\n",
    "                r.append(element)\n",
    "            matrix1.append(r)\n",
    "        print(\"Enter elements for 2nd array\")\n",
    "        for i in range(m1):\n",
    "            r1 =[]\n",
    "            for j in range(n1):\n",
    "                element = int(input(\"Enter the element \"))\n",
    "                r1.append(element)\n",
    "            matrix2.append(r1)\n",
    "    else:\n",
    "        print(\"The column number of 1st matrix and row number of 2nd matrix needs to be same \")\n",
    "            \n",
    "    a = multiply_matrice(matrix1, matrix2, m1, n)\n",
    "    print(\"Multiplied matrix is below:\")\n",
    "    a.multiply()"
   ]
  },
  {
   "cell_type": "code",
   "execution_count": 21,
   "metadata": {},
   "outputs": [
    {
     "name": "stdout",
     "output_type": "stream",
     "text": [
      "Enter number of rows for 1st array : 2\n",
      "Enter number of columns for 1st array: 2\n",
      "Enter number of rows for 2nd array : 2\n",
      "Enter number of columns for 2nd array: 2\n",
      "Enter elements for 1st array\n",
      "Enter the element 1\n",
      "Enter the element 2\n",
      "Enter the element 3\n",
      "Enter the element 4\n",
      "Enter elements for 2nd array\n",
      "Enter the element 1\n",
      "Enter the element 2\n",
      "Enter the element 3\n",
      "Enter the element 4\n",
      "Multiplied matrix is below:\n",
      "7  10  \n",
      "15  22  \n"
     ]
    }
   ],
   "source": [
    "main()"
   ]
  },
  {
   "cell_type": "markdown",
   "metadata": {},
   "source": [
    "3.\tWrite a Python Program to Transpose a Matrix?"
   ]
  },
  {
   "cell_type": "code",
   "execution_count": 34,
   "metadata": {},
   "outputs": [],
   "source": [
    "import numpy as np\n",
    "\n",
    "class transpose_matrice:\n",
    "    def __init__(self, arr1, m, n):\n",
    "        self.arr1 = arr1\n",
    "        self.m = m\n",
    "        self.n = n\n",
    "        \n",
    "    def transpose(self):\n",
    "        ##Creating mxn empty array\n",
    "        transpose_matrix = np.empty((self.m, self.n), int)\n",
    "        for i in range(self.m):\n",
    "            for j in range(self.n):\n",
    "                transpose_matrix[i][j] = self.arr1[j][i]\n",
    "        ##Display the final matrix\n",
    "        for i in range(self.m):\n",
    "            for j in range(self.n):\n",
    "                print(transpose_matrix[i][j], end = \"  \")\n",
    "            print()\n",
    "\n",
    "def main():\n",
    "    m,n = int(input(\"Enter number of rows for the array : \")), int(input(\"Enter number of columns for the array: \"))\n",
    "    matrix1 = []\n",
    "    print(\"Enter elements for the array\")\n",
    "    for i in range(m):\n",
    "        r =[]\n",
    "        for j in range(n):\n",
    "            element = int(input(\"Enter the element \"))\n",
    "            r.append(element)\n",
    "        matrix1.append(r)\n",
    "    print(\"Entered matrix is below:\")\n",
    "    for i in range(m):\n",
    "            for j in range(n):\n",
    "                print(matrix1[i][j], end = \"  \")\n",
    "            print()\n",
    "    \n",
    "        \n",
    "    a = transpose_matrice(matrix1, m, n)\n",
    "    print(\"Transposed matrix is below:\")\n",
    "    a.transpose()       "
   ]
  },
  {
   "cell_type": "code",
   "execution_count": 35,
   "metadata": {},
   "outputs": [
    {
     "name": "stdout",
     "output_type": "stream",
     "text": [
      "Enter number of rows for the array : 2\n",
      "Enter number of columns for the array: 2\n",
      "Enter elements for the array\n",
      "Enter the element 1\n",
      "Enter the element 2\n",
      "Enter the element 3\n",
      "Enter the element 4\n",
      "Entered matrix is below:\n",
      "1  2  \n",
      "3  4  \n",
      "Transposed matrix is below:\n",
      "1  3  \n",
      "2  4  \n"
     ]
    }
   ],
   "source": [
    "main()"
   ]
  },
  {
   "cell_type": "markdown",
   "metadata": {},
   "source": [
    "4.\tWrite a Python Program to Sort Words in Alphabetic Order?"
   ]
  },
  {
   "cell_type": "code",
   "execution_count": 51,
   "metadata": {},
   "outputs": [],
   "source": [
    "class alpha_sort:\n",
    "    def __init__(self, sentence):\n",
    "        self.sentence = sentence\n",
    "    \n",
    "    def alphabetic_order(self):\n",
    "        sentence_lowercase = self.sentence.lower()\n",
    "        words = sentence_lowercase.split()\n",
    "        words.sort()\n",
    "        \n",
    "        for i in words:\n",
    "            print(i, end = \" \")\n",
    "def main():\n",
    "    a = alpha_sort(input(\"Enter the sentence \"))\n",
    "    print(\"The alphabetically sorted sentence is below:\")\n",
    "    a.alphabetic_order()"
   ]
  },
  {
   "cell_type": "code",
   "execution_count": 52,
   "metadata": {},
   "outputs": [
    {
     "name": "stdout",
     "output_type": "stream",
     "text": [
      "Enter the sentence India is diverse nation\n",
      "The alphabetically sorted sentence is below:\n",
      "diverse india is nation "
     ]
    }
   ],
   "source": [
    "main()"
   ]
  },
  {
   "cell_type": "markdown",
   "metadata": {},
   "source": [
    "5.\tWrite a Python Program to Remove Punctuation From a String?"
   ]
  },
  {
   "cell_type": "code",
   "execution_count": 8,
   "metadata": {},
   "outputs": [],
   "source": [
    "class remove_punctuation:\n",
    "    def __init__(self, sentence):\n",
    "        self.sentence = sentence\n",
    "    \n",
    "    def remove(self):\n",
    "        k=0\n",
    "        words = []\n",
    "        for i in range(len(self.sentence)):\n",
    "            if self.sentence[i].isalpha()==False:\n",
    "                words.append(self.sentence[k:i])\n",
    "                k = i+1\n",
    "        #Print the string without puntuation\n",
    "        for j in words:\n",
    "            print(j, end = \" \")\n",
    "def main():\n",
    "    a = remove_punctuation(input(\"Enter the sentence\\n\"))\n",
    "    print(\"The sentence without puntuation is below:\")\n",
    "    a.remove()"
   ]
  },
  {
   "cell_type": "code",
   "execution_count": 9,
   "metadata": {},
   "outputs": [
    {
     "name": "stdout",
     "output_type": "stream",
     "text": [
      "Enter the sentence\n",
      "the,city,of,joy:is;kolkata.\n",
      "The sentence without puntuation is below:\n",
      "the city of joy is kolkata "
     ]
    }
   ],
   "source": [
    "main()"
   ]
  },
  {
   "cell_type": "code",
   "execution_count": null,
   "metadata": {},
   "outputs": [],
   "source": []
  }
 ],
 "metadata": {
  "kernelspec": {
   "display_name": "Python 3",
   "language": "python",
   "name": "python3"
  },
  "language_info": {
   "codemirror_mode": {
    "name": "ipython",
    "version": 3
   },
   "file_extension": ".py",
   "mimetype": "text/x-python",
   "name": "python",
   "nbconvert_exporter": "python",
   "pygments_lexer": "ipython3",
   "version": "3.8.5"
  }
 },
 "nbformat": 4,
 "nbformat_minor": 4
}
