{
 "cells": [
  {
   "cell_type": "markdown",
   "metadata": {},
   "source": [
    "1.\tWrite a Python Program to Find LCM?"
   ]
  },
  {
   "cell_type": "code",
   "execution_count": 36,
   "metadata": {},
   "outputs": [
    {
     "name": "stdout",
     "output_type": "stream",
     "text": [
      "Enter the first number 4\n",
      "Enter the second number 8\n",
      "LCM of the two input numbers is: 8\n"
     ]
    }
   ],
   "source": [
    "def lcm(num1,num2):\n",
    "    if num1>num2:\n",
    "        greater_number = num1\n",
    "    else:\n",
    "        greater_number = num2\n",
    "        \n",
    "    while True:\n",
    "        if greater_number%num1==0 and greater_number%num2==0:\n",
    "            LCM = greater_number\n",
    "            break\n",
    "            greater_number = greater_number+1\n",
    "            \n",
    "    return LCM\n",
    "\n",
    "print(\"LCM of the two input numbers is:\",lcm(int(input(\"Enter the first number \")),int(input(\"Enter the second number \"))))"
   ]
  },
  {
   "cell_type": "markdown",
   "metadata": {},
   "source": [
    "2.\tWrite a Python Program to Find HCF?"
   ]
  },
  {
   "cell_type": "code",
   "execution_count": 37,
   "metadata": {},
   "outputs": [
    {
     "name": "stdout",
     "output_type": "stream",
     "text": [
      "Enter the first number 12\n",
      "Enter the second number 24\n",
      "HCF of the two input numbers is: 12\n"
     ]
    }
   ],
   "source": [
    "def hcf(num1,num2):\n",
    "    if num1<num2:\n",
    "        smaller_number = num1\n",
    "    else:\n",
    "        smaller_number = num2\n",
    "        \n",
    "    for i in range(1,smaller_number+1):\n",
    "        if smaller_number%i==0 and smaller_number%i==0:\n",
    "            HCF = i\n",
    "            \n",
    "    return HCF\n",
    "\n",
    "print(\"HCF of the two input numbers is:\",hcf(int(input(\"Enter the first number \")),int(input(\"Enter the second number \"))))"
   ]
  },
  {
   "cell_type": "markdown",
   "metadata": {},
   "source": [
    "3.\tWrite a Python Program to Convert Decimal to Binary, Octal and Hexadecimal?"
   ]
  },
  {
   "cell_type": "code",
   "execution_count": 28,
   "metadata": {},
   "outputs": [],
   "source": [
    "def DeciToBin(number):\n",
    "    l =[]\n",
    "    while number>0:\n",
    "        reminder = number%2\n",
    "        l.append(reminder)\n",
    "        number = (number-reminder)//2\n",
    "    \n",
    "    reversed_list = l[::-1]\n",
    "    return reversed_list\n",
    "\n",
    "def DeciToOct(number):\n",
    "    l =[]\n",
    "    while number>0:\n",
    "        reminder = number%8\n",
    "        l.append(reminder)\n",
    "        number = (number-reminder)//8\n",
    "    \n",
    "    reversed_list = l[::-1]\n",
    "    return reversed_list\n",
    "\n",
    "def DeciToHex(number):\n",
    "    l =[]\n",
    "    while number>0:\n",
    "        reminder = number%16\n",
    "        if reminder ==10:\n",
    "            l.append(\"A\")\n",
    "        elif reminder ==11:\n",
    "            l.append(\"B\")\n",
    "        elif reminder ==12:\n",
    "            l.append(\"C\")\n",
    "        elif reminder ==13:\n",
    "            l.append(\"D\")\n",
    "        elif reminder ==14:\n",
    "            l.append(\"E\")\n",
    "        elif reminder ==15:\n",
    "            l.append(\"F\")\n",
    "        else:\n",
    "            l.append(reminder)\n",
    "        number = (number-reminder)//16\n",
    "    \n",
    "    reversed_list = l[::-1]\n",
    "    return reversed_list"
   ]
  },
  {
   "cell_type": "code",
   "execution_count": 41,
   "metadata": {},
   "outputs": [
    {
     "name": "stdout",
     "output_type": "stream",
     "text": [
      "Enter the decimal number 124\n",
      "Binary value of the input number is: [1, 1, 1, 1, 1, 0, 0]\n"
     ]
    }
   ],
   "source": [
    "print(\"Binary value of the input number is:\",DeciToBin(int(input(\"Enter the decimal number \"))))"
   ]
  },
  {
   "cell_type": "code",
   "execution_count": 42,
   "metadata": {},
   "outputs": [
    {
     "name": "stdout",
     "output_type": "stream",
     "text": [
      "Enter the decimal number 274\n",
      "Octal value of the input number is: [4, 2, 2]\n"
     ]
    }
   ],
   "source": [
    "print(\"Octal value of the input number is:\",DeciToOct(int(input(\"Enter the decimal number \"))))"
   ]
  },
  {
   "cell_type": "code",
   "execution_count": 43,
   "metadata": {},
   "outputs": [
    {
     "name": "stdout",
     "output_type": "stream",
     "text": [
      "Enter the decimal number 456\n",
      "Hexadicimal value of the input number is: [1, 'C', 8]\n"
     ]
    }
   ],
   "source": [
    "print(\"Hexadicimal value of the input number is:\",DeciToHex(int(input(\"Enter the decimal number \"))))"
   ]
  },
  {
   "cell_type": "markdown",
   "metadata": {},
   "source": [
    "4.\tWrite a Python Program To Find ASCII value of a character?"
   ]
  },
  {
   "cell_type": "code",
   "execution_count": 46,
   "metadata": {},
   "outputs": [
    {
     "name": "stdout",
     "output_type": "stream",
     "text": [
      "Enter the decimal number r\n",
      "ASCII value of the input character is: 114\n"
     ]
    }
   ],
   "source": [
    "def ASCII(char):\n",
    "    return ord(char)\n",
    "\n",
    "print(\"ASCII value of the input character is:\",ASCII(input(\"Enter the decimal number \")))"
   ]
  },
  {
   "cell_type": "markdown",
   "metadata": {},
   "source": [
    "5.\tWrite a Python Program to Make a Simple Calculator with 4 basic mathematical operations?"
   ]
  },
  {
   "cell_type": "code",
   "execution_count": 54,
   "metadata": {},
   "outputs": [
    {
     "name": "stdout",
     "output_type": "stream",
     "text": [
      "Select any one option\n",
      "1 -> addition\n",
      "2 -> subtraction\n",
      "3 -> multiplication\n",
      "4 -> division\n",
      "Enter the first number 12\n",
      "Enter the second number 13\n",
      "Enter the option 3\n",
      "The multiplication is: 156\n"
     ]
    }
   ],
   "source": [
    "class calc:\n",
    "    def __init__(self,num1, num2):\n",
    "        self.num1 = num1\n",
    "        self.num2 = num2\n",
    "    def calculator(self,option):\n",
    "        if option ==1:\n",
    "            print(\"The sum is:\",(self.num1+self.num2))\n",
    "        elif option ==2:\n",
    "            print(\"The subtraction is:\",(self.num1-self.num2))\n",
    "        elif option ==3:\n",
    "            print(\"The multiplication is:\",(self.num1*self.num2))\n",
    "        elif option ==4:\n",
    "            print(\"The division is:\",(self.num1//self.num2))\n",
    "        else:\n",
    "            print(\"Invalid option\")\n",
    "        \n",
    "\n",
    "print(\"Select any one option\")\n",
    "print(\"1 -> addition\")\n",
    "print(\"2 -> subtraction\")\n",
    "print(\"3 -> multiplication\")\n",
    "print(\"4 -> division\")\n",
    "a = calc(int(input(\"Enter the first number \")), int(input(\"Enter the second number \")))\n",
    "a.calculator(int(input(\"Enter the option \")))\n",
    "    \n",
    "        \n",
    "        \n",
    "        \n",
    "    "
   ]
  },
  {
   "cell_type": "code",
   "execution_count": null,
   "metadata": {},
   "outputs": [],
   "source": []
  }
 ],
 "metadata": {
  "kernelspec": {
   "display_name": "Python 3",
   "language": "python",
   "name": "python3"
  },
  "language_info": {
   "codemirror_mode": {
    "name": "ipython",
    "version": 3
   },
   "file_extension": ".py",
   "mimetype": "text/x-python",
   "name": "python",
   "nbconvert_exporter": "python",
   "pygments_lexer": "ipython3",
   "version": "3.8.5"
  }
 },
 "nbformat": 4,
 "nbformat_minor": 4
}
